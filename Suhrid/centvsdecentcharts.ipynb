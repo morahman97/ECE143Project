{
 "cells": [
  {
   "cell_type": "code",
   "execution_count": 16,
   "metadata": {
    "colab": {},
    "colab_type": "code",
    "collapsed": true,
    "id": "1--xgfuRqDlC"
   },
   "outputs": [
    {
     "ename": "FileNotFoundError",
     "evalue": "[Errno 2] No such file or directory: 'cleaned_social_media.xlsx'",
     "output_type": "error",
     "traceback": [
      "\u001b[0;31m---------------------------------------------------------------------------\u001b[0m",
      "\u001b[0;31mFileNotFoundError\u001b[0m                         Traceback (most recent call last)",
      "\u001b[0;32m<ipython-input-16-7a18ab0ac949>\u001b[0m in \u001b[0;36m<module>\u001b[0;34m\u001b[0m\n\u001b[1;32m     12\u001b[0m     \u001b[0;32mreturn\u001b[0m \u001b[0minner_autopct\u001b[0m\u001b[0;34m\u001b[0m\u001b[0;34m\u001b[0m\u001b[0m\n\u001b[1;32m     13\u001b[0m \u001b[0;34m\u001b[0m\u001b[0m\n\u001b[0;32m---> 14\u001b[0;31m \u001b[0mdata\u001b[0m \u001b[0;34m=\u001b[0m \u001b[0mpd\u001b[0m\u001b[0;34m.\u001b[0m\u001b[0mread_excel\u001b[0m\u001b[0;34m(\u001b[0m\u001b[0;34m'cleaned_social_media.xlsx'\u001b[0m\u001b[0;34m)\u001b[0m\u001b[0;34m\u001b[0m\u001b[0;34m\u001b[0m\u001b[0m\n\u001b[0m\u001b[1;32m     15\u001b[0m \u001b[0mlabels\u001b[0m \u001b[0;34m=\u001b[0m \u001b[0mdata\u001b[0m\u001b[0;34m[\u001b[0m\u001b[0;34m'Entity'\u001b[0m\u001b[0;34m]\u001b[0m\u001b[0;34m\u001b[0m\u001b[0;34m\u001b[0m\u001b[0m\n\u001b[1;32m     16\u001b[0m \u001b[0mprint\u001b[0m\u001b[0;34m(\u001b[0m\u001b[0mlabels\u001b[0m\u001b[0;34m)\u001b[0m\u001b[0;34m\u001b[0m\u001b[0;34m\u001b[0m\u001b[0m\n",
      "\u001b[0;32m/anaconda3/lib/python3.6/site-packages/pandas/util/_decorators.py\u001b[0m in \u001b[0;36mwrapper\u001b[0;34m(*args, **kwargs)\u001b[0m\n\u001b[1;32m    186\u001b[0m                 \u001b[0;32melse\u001b[0m\u001b[0;34m:\u001b[0m\u001b[0;34m\u001b[0m\u001b[0;34m\u001b[0m\u001b[0m\n\u001b[1;32m    187\u001b[0m                     \u001b[0mkwargs\u001b[0m\u001b[0;34m[\u001b[0m\u001b[0mnew_arg_name\u001b[0m\u001b[0;34m]\u001b[0m \u001b[0;34m=\u001b[0m \u001b[0mnew_arg_value\u001b[0m\u001b[0;34m\u001b[0m\u001b[0;34m\u001b[0m\u001b[0m\n\u001b[0;32m--> 188\u001b[0;31m             \u001b[0;32mreturn\u001b[0m \u001b[0mfunc\u001b[0m\u001b[0;34m(\u001b[0m\u001b[0;34m*\u001b[0m\u001b[0margs\u001b[0m\u001b[0;34m,\u001b[0m \u001b[0;34m**\u001b[0m\u001b[0mkwargs\u001b[0m\u001b[0;34m)\u001b[0m\u001b[0;34m\u001b[0m\u001b[0;34m\u001b[0m\u001b[0m\n\u001b[0m\u001b[1;32m    189\u001b[0m         \u001b[0;32mreturn\u001b[0m \u001b[0mwrapper\u001b[0m\u001b[0;34m\u001b[0m\u001b[0;34m\u001b[0m\u001b[0m\n\u001b[1;32m    190\u001b[0m     \u001b[0;32mreturn\u001b[0m \u001b[0m_deprecate_kwarg\u001b[0m\u001b[0;34m\u001b[0m\u001b[0;34m\u001b[0m\u001b[0m\n",
      "\u001b[0;32m/anaconda3/lib/python3.6/site-packages/pandas/util/_decorators.py\u001b[0m in \u001b[0;36mwrapper\u001b[0;34m(*args, **kwargs)\u001b[0m\n\u001b[1;32m    186\u001b[0m                 \u001b[0;32melse\u001b[0m\u001b[0;34m:\u001b[0m\u001b[0;34m\u001b[0m\u001b[0;34m\u001b[0m\u001b[0m\n\u001b[1;32m    187\u001b[0m                     \u001b[0mkwargs\u001b[0m\u001b[0;34m[\u001b[0m\u001b[0mnew_arg_name\u001b[0m\u001b[0;34m]\u001b[0m \u001b[0;34m=\u001b[0m \u001b[0mnew_arg_value\u001b[0m\u001b[0;34m\u001b[0m\u001b[0;34m\u001b[0m\u001b[0m\n\u001b[0;32m--> 188\u001b[0;31m             \u001b[0;32mreturn\u001b[0m \u001b[0mfunc\u001b[0m\u001b[0;34m(\u001b[0m\u001b[0;34m*\u001b[0m\u001b[0margs\u001b[0m\u001b[0;34m,\u001b[0m \u001b[0;34m**\u001b[0m\u001b[0mkwargs\u001b[0m\u001b[0;34m)\u001b[0m\u001b[0;34m\u001b[0m\u001b[0;34m\u001b[0m\u001b[0m\n\u001b[0m\u001b[1;32m    189\u001b[0m         \u001b[0;32mreturn\u001b[0m \u001b[0mwrapper\u001b[0m\u001b[0;34m\u001b[0m\u001b[0;34m\u001b[0m\u001b[0m\n\u001b[1;32m    190\u001b[0m     \u001b[0;32mreturn\u001b[0m \u001b[0m_deprecate_kwarg\u001b[0m\u001b[0;34m\u001b[0m\u001b[0;34m\u001b[0m\u001b[0m\n",
      "\u001b[0;32m/anaconda3/lib/python3.6/site-packages/pandas/io/excel.py\u001b[0m in \u001b[0;36mread_excel\u001b[0;34m(io, sheet_name, header, names, index_col, parse_cols, usecols, squeeze, dtype, engine, converters, true_values, false_values, skiprows, nrows, na_values, keep_default_na, verbose, parse_dates, date_parser, thousands, comment, skip_footer, skipfooter, convert_float, mangle_dupe_cols, **kwds)\u001b[0m\n\u001b[1;32m    348\u001b[0m \u001b[0;34m\u001b[0m\u001b[0m\n\u001b[1;32m    349\u001b[0m     \u001b[0;32mif\u001b[0m \u001b[0;32mnot\u001b[0m \u001b[0misinstance\u001b[0m\u001b[0;34m(\u001b[0m\u001b[0mio\u001b[0m\u001b[0;34m,\u001b[0m \u001b[0mExcelFile\u001b[0m\u001b[0;34m)\u001b[0m\u001b[0;34m:\u001b[0m\u001b[0;34m\u001b[0m\u001b[0;34m\u001b[0m\u001b[0m\n\u001b[0;32m--> 350\u001b[0;31m         \u001b[0mio\u001b[0m \u001b[0;34m=\u001b[0m \u001b[0mExcelFile\u001b[0m\u001b[0;34m(\u001b[0m\u001b[0mio\u001b[0m\u001b[0;34m,\u001b[0m \u001b[0mengine\u001b[0m\u001b[0;34m=\u001b[0m\u001b[0mengine\u001b[0m\u001b[0;34m)\u001b[0m\u001b[0;34m\u001b[0m\u001b[0;34m\u001b[0m\u001b[0m\n\u001b[0m\u001b[1;32m    351\u001b[0m \u001b[0;34m\u001b[0m\u001b[0m\n\u001b[1;32m    352\u001b[0m     return io.parse(\n",
      "\u001b[0;32m/anaconda3/lib/python3.6/site-packages/pandas/io/excel.py\u001b[0m in \u001b[0;36m__init__\u001b[0;34m(self, io, engine)\u001b[0m\n\u001b[1;32m    651\u001b[0m         \u001b[0mself\u001b[0m\u001b[0;34m.\u001b[0m\u001b[0m_io\u001b[0m \u001b[0;34m=\u001b[0m \u001b[0m_stringify_path\u001b[0m\u001b[0;34m(\u001b[0m\u001b[0mio\u001b[0m\u001b[0;34m)\u001b[0m\u001b[0;34m\u001b[0m\u001b[0;34m\u001b[0m\u001b[0m\n\u001b[1;32m    652\u001b[0m \u001b[0;34m\u001b[0m\u001b[0m\n\u001b[0;32m--> 653\u001b[0;31m         \u001b[0mself\u001b[0m\u001b[0;34m.\u001b[0m\u001b[0m_reader\u001b[0m \u001b[0;34m=\u001b[0m \u001b[0mself\u001b[0m\u001b[0;34m.\u001b[0m\u001b[0m_engines\u001b[0m\u001b[0;34m[\u001b[0m\u001b[0mengine\u001b[0m\u001b[0;34m]\u001b[0m\u001b[0;34m(\u001b[0m\u001b[0mself\u001b[0m\u001b[0;34m.\u001b[0m\u001b[0m_io\u001b[0m\u001b[0;34m)\u001b[0m\u001b[0;34m\u001b[0m\u001b[0;34m\u001b[0m\u001b[0m\n\u001b[0m\u001b[1;32m    654\u001b[0m \u001b[0;34m\u001b[0m\u001b[0m\n\u001b[1;32m    655\u001b[0m     \u001b[0;32mdef\u001b[0m \u001b[0m__fspath__\u001b[0m\u001b[0;34m(\u001b[0m\u001b[0mself\u001b[0m\u001b[0;34m)\u001b[0m\u001b[0;34m:\u001b[0m\u001b[0;34m\u001b[0m\u001b[0;34m\u001b[0m\u001b[0m\n",
      "\u001b[0;32m/anaconda3/lib/python3.6/site-packages/pandas/io/excel.py\u001b[0m in \u001b[0;36m__init__\u001b[0;34m(self, filepath_or_buffer)\u001b[0m\n\u001b[1;32m    422\u001b[0m             \u001b[0mself\u001b[0m\u001b[0;34m.\u001b[0m\u001b[0mbook\u001b[0m \u001b[0;34m=\u001b[0m \u001b[0mxlrd\u001b[0m\u001b[0;34m.\u001b[0m\u001b[0mopen_workbook\u001b[0m\u001b[0;34m(\u001b[0m\u001b[0mfile_contents\u001b[0m\u001b[0;34m=\u001b[0m\u001b[0mdata\u001b[0m\u001b[0;34m)\u001b[0m\u001b[0;34m\u001b[0m\u001b[0;34m\u001b[0m\u001b[0m\n\u001b[1;32m    423\u001b[0m         \u001b[0;32melif\u001b[0m \u001b[0misinstance\u001b[0m\u001b[0;34m(\u001b[0m\u001b[0mfilepath_or_buffer\u001b[0m\u001b[0;34m,\u001b[0m \u001b[0mcompat\u001b[0m\u001b[0;34m.\u001b[0m\u001b[0mstring_types\u001b[0m\u001b[0;34m)\u001b[0m\u001b[0;34m:\u001b[0m\u001b[0;34m\u001b[0m\u001b[0;34m\u001b[0m\u001b[0m\n\u001b[0;32m--> 424\u001b[0;31m             \u001b[0mself\u001b[0m\u001b[0;34m.\u001b[0m\u001b[0mbook\u001b[0m \u001b[0;34m=\u001b[0m \u001b[0mxlrd\u001b[0m\u001b[0;34m.\u001b[0m\u001b[0mopen_workbook\u001b[0m\u001b[0;34m(\u001b[0m\u001b[0mfilepath_or_buffer\u001b[0m\u001b[0;34m)\u001b[0m\u001b[0;34m\u001b[0m\u001b[0;34m\u001b[0m\u001b[0m\n\u001b[0m\u001b[1;32m    425\u001b[0m         \u001b[0;32melse\u001b[0m\u001b[0;34m:\u001b[0m\u001b[0;34m\u001b[0m\u001b[0;34m\u001b[0m\u001b[0m\n\u001b[1;32m    426\u001b[0m             raise ValueError('Must explicitly set engine if not passing in'\n",
      "\u001b[0;32m/anaconda3/lib/python3.6/site-packages/xlrd/__init__.py\u001b[0m in \u001b[0;36mopen_workbook\u001b[0;34m(filename, logfile, verbosity, use_mmap, file_contents, encoding_override, formatting_info, on_demand, ragged_rows)\u001b[0m\n\u001b[1;32m    109\u001b[0m     \u001b[0;32melse\u001b[0m\u001b[0;34m:\u001b[0m\u001b[0;34m\u001b[0m\u001b[0;34m\u001b[0m\u001b[0m\n\u001b[1;32m    110\u001b[0m         \u001b[0mfilename\u001b[0m \u001b[0;34m=\u001b[0m \u001b[0mos\u001b[0m\u001b[0;34m.\u001b[0m\u001b[0mpath\u001b[0m\u001b[0;34m.\u001b[0m\u001b[0mexpanduser\u001b[0m\u001b[0;34m(\u001b[0m\u001b[0mfilename\u001b[0m\u001b[0;34m)\u001b[0m\u001b[0;34m\u001b[0m\u001b[0;34m\u001b[0m\u001b[0m\n\u001b[0;32m--> 111\u001b[0;31m         \u001b[0;32mwith\u001b[0m \u001b[0mopen\u001b[0m\u001b[0;34m(\u001b[0m\u001b[0mfilename\u001b[0m\u001b[0;34m,\u001b[0m \u001b[0;34m\"rb\"\u001b[0m\u001b[0;34m)\u001b[0m \u001b[0;32mas\u001b[0m \u001b[0mf\u001b[0m\u001b[0;34m:\u001b[0m\u001b[0;34m\u001b[0m\u001b[0;34m\u001b[0m\u001b[0m\n\u001b[0m\u001b[1;32m    112\u001b[0m             \u001b[0mpeek\u001b[0m \u001b[0;34m=\u001b[0m \u001b[0mf\u001b[0m\u001b[0;34m.\u001b[0m\u001b[0mread\u001b[0m\u001b[0;34m(\u001b[0m\u001b[0mpeeksz\u001b[0m\u001b[0;34m)\u001b[0m\u001b[0;34m\u001b[0m\u001b[0;34m\u001b[0m\u001b[0m\n\u001b[1;32m    113\u001b[0m     \u001b[0;32mif\u001b[0m \u001b[0mpeek\u001b[0m \u001b[0;34m==\u001b[0m \u001b[0;34mb\"PK\\x03\\x04\"\u001b[0m\u001b[0;34m:\u001b[0m \u001b[0;31m# a ZIP file\u001b[0m\u001b[0;34m\u001b[0m\u001b[0;34m\u001b[0m\u001b[0m\n",
      "\u001b[0;31mFileNotFoundError\u001b[0m: [Errno 2] No such file or directory: 'cleaned_social_media.xlsx'"
     ]
    }
   ],
   "source": [
    "#Contribution of various platforms to data breaches\n",
    "import numpy as np\n",
    "import pandas as pd\n",
    "import matplotlib.pyplot as plt\n",
    "from matplotlib import cm\n",
    "%matplotlib inline\n",
    "\n",
    "def autopct_generator(limit):\n",
    "    \"\"\"Remove percent on small slices.\"\"\"\n",
    "    def inner_autopct(pct):\n",
    "        return ('%.2f%%' % pct) if pct > limit else ''\n",
    "    return inner_autopct\n",
    "\n",
    "data = pd.read_excel('cleaned_social_media.xlsx')\n",
    "labels = data['Entity']\n",
    "print(labels)\n",
    "sizes = data['records lost']\n",
    "NUM_COLORS = len(sizes)\n",
    "\n",
    "fig1, ax1 = plt.subplots(figsize=(18,10))\n",
    "\n",
    "theme = plt.get_cmap('bwr')\n",
    "ax1.set_prop_cycle(color=[theme(\n",
    "    1. * i / NUM_COLORS) for i in range(NUM_COLORS)])\n",
    "\n",
    "box = ax1.get_position()\n",
    "ax1.set_position([box.x0, box.y0, box.width * 1.3, box.height])\n",
    "\n",
    "_, _, autotexts = ax1.pie(\n",
    "    sizes, autopct=autopct_generator(1.5),explode = (0.1, 0.1, 0.1, 0.1,0.1,0.1,0.1,0.1,0.1,0.1,0.1,0), startangle=90)\n",
    "for autotext in autotexts:\n",
    "    autotext.set_weight('bold')\n",
    "ax1.axis('equal')\n",
    "total = sum(sizes)\n",
    "plt.legend(\n",
    "    loc='upper left',\n",
    "    labels=['%s, %1.1f%%' % (\n",
    "        l, (float(s) / total) * 100) for l, s in zip(labels, sizes)],\n",
    "    prop={'size': 13},\n",
    "    bbox_to_anchor=(0.0, 1),\n",
    "    bbox_transform=fig1.transFigure\n",
    ")\n",
    "#defining fonts\n",
    "font = {'family': 'serif',\n",
    "        'color':  'black',\n",
    "        'weight': 'heavy',\n",
    "        'size': 28,\n",
    "        }\n",
    "\n",
    "plt.title('Contribution of various platforms to data breaches',fontdict=font)"
   ]
  },
  {
   "cell_type": "code",
   "execution_count": 15,
   "metadata": {
    "colab": {
     "base_uri": "https://localhost:8080/",
     "height": 281
    },
    "colab_type": "code",
    "id": "OxIxWoekzzYH",
    "outputId": "85867e42-ff5d-4aaf-e374-686d1ba31038"
   },
   "outputs": [
    {
     "data": {
      "image/png": "[encoded data removed]",
      "text/plain": [
       "<Figure size 432x288 with 1 Axes>"
      ]
     },
     "metadata": {
      "needs_background": "light"
     },
     "output_type": "display_data"
    }
   ],
   "source": [
    "#Contribution of various social media platforms to data breaches\n",
    "import numpy as np\n",
    "import matplotlib.pyplot as plt\n",
    "import pandas as pd\n",
    "\n",
    "\n",
    "Entity_info = pd.read_excel('sensitivityandyearofbreach-1.xlsx')['Entity']\n",
    "Year_info = pd.read_excel('sensitivityandyearofbreach-1.xlsx')['YEAR']\n",
    "Records_lost = pd.read_excel('sensitivityandyearofbreach-1.xlsx')['records lost']\n",
    "N = len(set(list(Entity_info)))\n",
    "total_records = [sum(Records_lost[Entity_info == 'Facebook']) , sum(Records_lost[Entity_info == 'Instagram']) , sum(Records_lost[Entity_info == \"VK\"]) ,sum(Records_lost[Entity_info == 'Twitter']),sum(Records_lost[Entity_info == 'LinkedIn']),sum(Records_lost[Entity_info == 'SnapChat'])]\n",
    "total_records = [i/100000 for i in total_records]\n",
    "\n",
    "order = ['VK','LinkedIn','Facebook','Twitter','SnapChat','Instagram']\n",
    "year_2012 = (0, 80, 0, 0, 0,0)\n",
    "year_2013 = (0, 0, 60, 2.5, 47, 0)\n",
    "year_2014 = (0, 0, 0, 0, 0, 0)\n",
    "year_2015 = (0, 0, 0, 0, 0, 0)\n",
    "year_2016 = (1005.44934, 1265, 0, 0, 0,0)\n",
    "year_2017 = (0, 0, 0, 0, 17, 60)\n",
    "year_2018 = (0, 0,790, 3300, 0, 0)\n",
    "year_2019 = (0, 3800,4190, 0, 0, 490)\n",
    "\n",
    "ind = np.arange(N)    # the x locations for the groups\n",
    "width = N       # the width of the bars: can also be len(x) sequence\n",
    "\n",
    "p1 = plt.bar(ind, year_2012, color='r')\n",
    "p2 = plt.bar(ind, year_2013, bottom=year_2012, color='b')\n",
    "p3 = plt.bar(ind, year_2014, bottom=(np.array(year_2012)+np.array(year_2013)))\n",
    "p4 = plt.bar(ind, year_2015, bottom=(np.array(year_2012)+np.array(year_2013)+ np.array(year_2014)))\n",
    "p5 = plt.bar(ind, year_2016, bottom=(np.array(year_2012)+np.array(year_2013)+ np.array(year_2014) + np.array(year_2015)))\n",
    "p6 = plt.bar(ind, year_2017, bottom=(np.array(year_2012)+np.array(year_2013)+ np.array(year_2014) + np.array(year_2015)+ np.array(year_2016)))\n",
    "p7 = plt.bar(ind, year_2018, bottom=(np.array(year_2012)+np.array(year_2013)+ np.array(year_2014) + np.array(year_2015)+ np.array(year_2016) + np.array(year_2017)))\n",
    "p8 = plt.bar(ind, year_2019, bottom=(np.array(year_2012)+np.array(year_2013)+ np.array(year_2014) + np.array(year_2015)+ np.array(year_2016) + np.array(year_2017)+ np.array(year_2018)))\n",
    "\n",
    "\n",
    "\n",
    "\n",
    "plt.ylabel('Records lost in hundred thousands')\n",
    "plt.title('Contribution of various social media platforms to data breaches from 2012 to 2019')\n",
    "plt.xticks(ind, order)\n",
    "plt.yticks(np.arange(0, max(total_records), 1000))\n",
    "plt.legend((p1[0], p2[0],p3[0], p4[0],p5[0], p6[0],p7[0], p8[0]), ('Year 2012', 'Year 2013','Year 2014', 'Year 2015','Year 2016', 'Year 2017','Year 2018', 'Year 2019'))\n",
    "plt.show()"
   ]
  },
  {
   "cell_type": "code",
   "execution_count": 0,
   "metadata": {
    "colab": {},
    "colab_type": "code",
    "id": "sWyeBp5rNwYx"
   },
   "outputs": [],
   "source": [
    "# import numpy as np\n",
    "# import matplotlib.pyplot as plt\n",
    "# import matplotlib\n",
    "# import pandas as pd\n",
    "\n",
    "# Entity_info = pd.read_excel('sensitivityandyearofbreach.xlsx')['Entity']\n",
    "# Year_info = pd.read_excel('sensitivityandyearofbreach.xlsx')['YEAR']\n",
    "# Records_lost = pd.read_excel('sensitivityandyearofbreach.xlsx')['records lost']\n",
    "# N = len(set(list(Entity_info)))\n",
    "# total_records = [sum(Records_lost[Entity_info == 'Facebook']) , sum(Records_lost[Entity_info == 'Instagram']) , sum(Records_lost[Entity_info == \"VK\"]) ,sum(Records_lost[Entity_info == 'Twitter']),sum(Records_lost[Entity_info == 'LinkedIn']),sum(Records_lost[Entity_info == 'SnapChat'])]\n",
    "# total_records = [i/100000 for i in total_records]\n",
    "\n",
    "# # print(list(set(Entity_info)))\n",
    "# header = list(set(Entity_info))\n",
    "\n",
    "# year_2012 = (0, 80, 0, 0, 0,0)\n",
    "# year_2013 = (0, 0, 60, 2.5, 47, 0)\n",
    "# year_2014 = (0, 0, 0, 0, 0, 0)\n",
    "# year_2015 = (0, 0, 0, 0, 0, 0)\n",
    "# year_2016 = (1005.44934, 1265, 0, 0, 0,0)\n",
    "# year_2017 = (0, 0, 0, 0, 17, 60)\n",
    "# year_2018 = (0, 0,790, 3300, 0, 0)\n",
    "# year_2019 = (0, 3800,4190, 0, 0, 490)\n",
    "\n",
    "# dataset = [year_2012,year_2013,year_2014,year_2015,year_2016,year_2017,year_2018,year_2019]\n",
    "# X_AXIS = dataset[0]\n",
    "\n",
    "# matplotlib.rc('font', serif='Helvetica Neue')\n",
    "# matplotlib.rc('text', usetex='false')\n",
    "# matplotlib.rcParams.update({'font.size': 40})\n",
    "\n",
    "# fig = matplotlib.pyplot.gcf()\n",
    "# fig.set_size_inches(18.5, 10.5)\n",
    "\n",
    "# configs = dataset[0]\n",
    "# N = len(configs)\n",
    "# ind = np.arange(N)\n",
    "# width = 0.4\n",
    "\n",
    "# p1 = plt.bar(ind, dataset[1], width, color='r')\n",
    "# p2 = plt.bar(ind, dataset[2], width, bottom=dataset[1], color='b')\n",
    "# p3 = plt.bar(ind, dataset[3], width, bottom=dataset[2], color='g')\n",
    "# p4 = plt.bar(ind, dataset[4], width, bottom=dataset[3], color='c')\n",
    "# p5 = plt.bar(ind, dataset[5], width, color='r')\n",
    "# p6 = plt.bar(ind, dataset[6], width, bottom=dataset[1], color='b')\n",
    "# p7 = plt.bar(ind, dataset[7], width, bottom=dataset[2], color='g')\n",
    "# p8 = plt.bar(ind, dataset[8], width, bottom=dataset[3], color='c')\n",
    "\n",
    "# plt.ylim([0,120])\n",
    "# plt.yticks(fontsize=12)\n",
    "# plt.ylabel(output, fontsize=12)\n",
    "# plt.xticks(ind, X_AXIS, fontsize=12, rotation=90)\n",
    "# plt.xlabel('test', fontsize=12)\n",
    "# plt.legend((p1[0], p2[0], p3[0], p4[0]), (header[0], header[1], header[2], header[3]), fontsize=12, ncol=4, framealpha=0, fancybox=True)\n",
    "# plt.show()"
   ]
  }
 ],
 "metadata": {
  "colab": {
   "collapsed_sections": [],
   "name": "centvsdecentcharts.ipynb",
   "provenance": [],
   "toc_visible": true
  },
  "kernelspec": {
   "display_name": "Python 3",
   "language": "python",
   "name": "python3"
  },
  "language_info": {
   "codemirror_mode": {
    "name": "ipython",
    "version": 3
   },
   "file_extension": ".py",
   "mimetype": "text/x-python",
   "name": "python",
   "nbconvert_exporter": "python",
   "pygments_lexer": "ipython3",
   "version": "3.6.8"
  }
 },
 "nbformat": 4,
 "nbformat_minor": 1
}
