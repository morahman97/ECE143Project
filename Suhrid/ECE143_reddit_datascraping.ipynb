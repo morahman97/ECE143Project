{
  "nbformat": 4,
  "nbformat_minor": 0,
  "metadata": {
    "colab": {
      "name": "ECE143_reddit_datascraping.ipynb",
      "provenance": [],
      "collapsed_sections": [],
      "toc_visible": true
    },
    "kernelspec": {
      "name": "python3",
      "display_name": "Python 3"
    }
  },
  "cells": [
    {
      "cell_type": "code",
      "metadata": {
        "id": "HSHwOTEgUbQd",
        "colab_type": "code",
        "colab": {}
      },
      "source": [
        "#Upload the mastodon_topics.csv file which Mo sent\n",
        "import pandas as pd\n",
        "!pip install praw\n",
        "import praw\n",
        "reddit = praw.Reddit(client_id='JEISNEQ9UJHjHA', client_secret='CY4kBtqKfivAxAiFa_9P0YdRhbY', user_agent='Subro')"
      ],
      "execution_count": 0,
      "outputs": []
    },
    {
      "cell_type": "code",
      "metadata": {
        "id": "-h0vVhmpUxqw",
        "colab_type": "code",
        "colab": {}
      },
      "source": [
        "# #Tester code\n",
        "# #If this works extract all possible subreddit's data\n",
        "\n",
        "# posts = []\n",
        "# ml_subreddit = reddit.subreddit('technology').hot(limit=1000)\n",
        "# for post in ml_subreddit:\n",
        "#     posts.append([post.title, post.score, post.id, post.subreddit, post.url, post.num_comments, post.selftext, post.created])\n",
        "# posts = pd.DataFrame(posts,columns=['title', 'score', 'id', 'subreddit', 'url', 'num_comments', 'body', 'created'])\n",
        "# print(posts)"
      ],
      "execution_count": 0,
      "outputs": []
    },
    {
      "cell_type": "code",
      "metadata": {
        "id": "yXZxdn4tVjzm",
        "colab_type": "code",
        "colab": {}
      },
      "source": [
        "subreddit_all = list(pd.read_csv('mastodon_topics.csv')['topic'])[0:30]\n",
        "\n",
        "#importing our error which we get if the subreddit doesnt exist\n",
        "from prawcore.exceptions import Forbidden\n",
        "\n",
        "#trying to comment (we may be banned)\n",
        "for i in subreddit_all:\n",
        "  try:\n",
        "      # print(i)\n",
        "      posts = []\n",
        "      ml_subreddit = reddit.subreddit(i).hot(limit=10000)\n",
        "      for post in ml_subreddit:\n",
        "          posts.append([post.title, post.score, post.id, post.subreddit, post.url, post.num_comments, post.selftext, post.created])\n",
        "      posts = pd.DataFrame(posts,columns=['title', 'score', 'id', 'subreddit', 'url', 'num_comments', 'body', 'created'])\n",
        "      posts.to_csv('reddit_data_without_users.csv' , mode='a')\n",
        "  except Forbidden: #might have to manually do it sometimes\n",
        "      continue"
      ],
      "execution_count": 0,
      "outputs": []
    },
    {
      "cell_type": "code",
      "metadata": {
        "id": "U1fMvofWgQhn",
        "colab_type": "code",
        "colab": {
          "base_uri": "https://localhost:8080/",
          "height": 425
        },
        "outputId": "fa528555-74fa-4af8-9cac-08fb2dea6e02"
      },
      "source": [
        "subreddit_all = list(set(list(pd.read_csv('reddit_data_without_users.csv')['subreddit'])))\n",
        "# print(subreddit_all)\n",
        "user_data = []\n",
        "\n",
        "for i in subreddit_all:\n",
        "  # print(i)\n",
        "  subreddit = reddit.subreddit(i)\n",
        "  user_data.append([i,subreddit.subscribers,subreddit.accounts_active,subreddit.accounts_active_is_fuzzed,subreddit.active_user_count])\n",
        "user_data = pd.DataFrame(user_data, columns=['Subreddit name','Number of subscribers','Active accounts','Active Fuzzed accounts','Active user count'])\n",
        "user_data.to_csv('reddit_data_with_user.csv', mode = 'w')"
      ],
      "execution_count": 53,
      "outputs": [
        {
          "output_type": "stream",
          "text": [
            "furry\n",
            "Music\n",
            "anime\n",
            "security\n",
            "subreddit\n",
            "politics\n",
            "queer\n",
            "science\n",
            "tech\n",
            "Art\n",
            "web\n",
            "computer\n",
            "Games\n",
            "open\n",
            "Design\n",
            "books\n",
            "porn\n",
            "technology\n",
            "programming\n",
            "game\n",
            "software\n",
            "linux\n",
            "Development\n",
            "gaming\n"
          ],
          "name": "stdout"
        }
      ]
    }
  ]
}