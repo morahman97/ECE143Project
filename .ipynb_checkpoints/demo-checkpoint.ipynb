{
 "cells": [
  {
   "cell_type": "code",
   "execution_count": 1,
   "metadata": {},
   "outputs": [],
   "source": [
    "import pandas as pd\n",
    "import matplotlib.pyplot as plt\n",
    "import csv\n",
    "import gmplot\n",
    "import requests\n",
    "from nltk.corpus import stopwords # Used for processing most popular topics, may require downloading"
   ]
  },
  {
   "cell_type": "markdown",
   "metadata": {},
   "source": [
    "## Mastodon Instance Map"
   ]
  },
  {
   "cell_type": "code",
   "execution_count": 2,
   "metadata": {},
   "outputs": [
    {
     "name": "stdout",
     "output_type": "stream",
     "text": [
      "/Users/mo/Courses/ECE143/ECE143Project/Analysis/Mastodon\n"
     ]
    }
   ],
   "source": [
    "cd ./Analysis/Mastodon/"
   ]
  },
  {
   "cell_type": "code",
   "execution_count": 3,
   "metadata": {},
   "outputs": [],
   "source": [
    "import generate_instance_coordinates\n",
    "import generate_map\n",
    "import generate_instance_data\n",
    "import popular_topics\n",
    "import dcfunding"
   ]
  },
  {
   "cell_type": "code",
   "execution_count": 4,
   "metadata": {},
   "outputs": [
    {
     "name": "stdout",
     "output_type": "stream",
     "text": [
      "/Users/mo/Courses/ECE143/ECE143Project\n"
     ]
    }
   ],
   "source": [
    "cd ../.."
   ]
  },
  {
   "cell_type": "code",
   "execution_count": null,
   "metadata": {},
   "outputs": [],
   "source": [
    "generate_instance_coordinates.generate('./Datasets/Mastodon/')"
   ]
  },
  {
   "cell_type": "code",
   "execution_count": null,
   "metadata": {},
   "outputs": [],
   "source": [
    "generate_map.generate('./Datasets/Mastodon/instance_coordinates.csv')\n",
    "# Note: The heatmap in the presentation slides has markers on each point from the csv file,\n",
    "# but the heatmap produced does not include markers"
   ]
  },
  {
   "cell_type": "markdown",
   "metadata": {},
   "source": [
    "## Extract data from Mastodon API"
   ]
  },
  {
   "cell_type": "code",
   "execution_count": null,
   "metadata": {},
   "outputs": [],
   "source": [
    "generate_instance_data.generate('./Datasets/Mastodon/')"
   ]
  },
  {
   "cell_type": "markdown",
   "metadata": {},
   "source": [
    "## Generate Most Popular Topics"
   ]
  },
  {
   "cell_type": "code",
   "execution_count": 5,
   "metadata": {},
   "outputs": [
    {
     "data": {
      "image/png": "[encoded data removed]",
      "text/plain": [
       "<Figure size 576x432 with 1 Axes>"
      ]
     },
     "metadata": {
      "needs_background": "light"
     },
     "output_type": "display_data"
    }
   ],
   "source": [
    "popular_topics.produce_topics()"
   ]
  },
  {
   "cell_type": "markdown",
   "metadata": {},
   "source": [
    "## Mastodon Revenue Model"
   ]
  },
  {
   "cell_type": "code",
   "execution_count": null,
   "metadata": {},
   "outputs": [],
   "source": [
    "monthly_donations = 6380\n",
    "total_patrons = 752\n",
    "\n",
    "patrons = pd.read_csv('Datasets/Mastodon/mastodon_patreon.csv')\n",
    "\n",
    "patrons = dcfunding.calc_donations(patrons,total_patrons)\n",
    "patrons.head()"
   ]
  },
  {
   "cell_type": "markdown",
   "metadata": {},
   "source": [
    "The patrons data is best illustrated in a pie chart."
   ]
  },
  {
   "cell_type": "code",
   "execution_count": null,
   "metadata": {},
   "outputs": [],
   "source": [
    "fig, ax = plt.subplots(figsize=(12, 8))\n",
    "ratios = list(patrons['total_donations'])\n",
    "labels = list(patrons['Donation level'])\n",
    "explode = [0, 0, 0, 0, 0.15, 0.15] # isolate platinum and gold sponsors\n",
    "colors = ['darksalmon','seagreen','palevioletred','silver','goldenrod','lightslategrey']\n",
    "angle = 110  # rotate so that platinum and gold are split by the x-axis\n",
    "\n",
    "ax.pie(ratios, autopct='%1.1f%%', startangle=angle, labels=labels, explode=explode,colors=colors)\n",
    "ax.set_title('Monthly donations ($6388)')\n",
    "ax.figure.savefig('Figures/mastodon_sponsors.png', transparent=True)\n",
    "plt.tight_layout()\n",
    "plt.show()"
   ]
  },
  {
   "cell_type": "markdown",
   "metadata": {},
   "source": [
    "Furthermore, we can look into company donations through the platinum and gold sponsors:"
   ]
  },
  {
   "cell_type": "code",
   "execution_count": null,
   "metadata": {},
   "outputs": [],
   "source": [
    "co_sponsors = pd.read_csv('Datasets/Mastodon/mastodon_gold_sponsors.csv')\n",
    "ind_co_sponsors = dcfunding.ind_platgold(co_sponsors,plotName='Figures/mastodon_pg_sponsors.jpg')"
   ]
  },
  {
   "cell_type": "code",
   "execution_count": null,
   "metadata": {},
   "outputs": [],
   "source": []
  }
 ],
 "metadata": {
  "kernelspec": {
   "display_name": "Python 3",
   "language": "python",
   "name": "python3"
  },
  "language_info": {
   "codemirror_mode": {
    "name": "ipython",
    "version": 3
   },
   "file_extension": ".py",
   "mimetype": "text/x-python",
   "name": "python",
   "nbconvert_exporter": "python",
   "pygments_lexer": "ipython3",
   "version": "3.6.8"
  }
 },
 "nbformat": 4,
 "nbformat_minor": 2
}
